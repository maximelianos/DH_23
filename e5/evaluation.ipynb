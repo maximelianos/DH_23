{
 "cells": [
  {
   "cell_type": "markdown",
   "id": "28e09db8-2580-4887-9b97-a8d954ae49bd",
   "metadata": {},
   "source": [
    "# Load dataset"
   ]
  },
  {
   "cell_type": "code",
   "execution_count": null,
   "id": "417cef5f-0073-4661-9c0e-f6e4149bd1e2",
   "metadata": {},
   "outputs": [],
   "source": []
  },
  {
   "cell_type": "code",
   "execution_count": null,
   "id": "7e6cf6a7-aeec-4feb-9c57-823321ce908b",
   "metadata": {},
   "outputs": [],
   "source": []
  },
  {
   "cell_type": "code",
   "execution_count": 1,
   "id": "a7dec37f-1dd5-4e10-a103-47cd14954d9a",
   "metadata": {},
   "outputs": [
    {
     "data": {
      "text/html": [
       "<div>\n",
       "<style scoped>\n",
       "    .dataframe tbody tr th:only-of-type {\n",
       "        vertical-align: middle;\n",
       "    }\n",
       "\n",
       "    .dataframe tbody tr th {\n",
       "        vertical-align: top;\n",
       "    }\n",
       "\n",
       "    .dataframe thead th {\n",
       "        text-align: right;\n",
       "    }\n",
       "</style>\n",
       "<table border=\"1\" class=\"dataframe\">\n",
       "  <thead>\n",
       "    <tr style=\"text-align: right;\">\n",
       "      <th></th>\n",
       "      <th>Beats</th>\n",
       "      <th>Id</th>\n",
       "      <th>Intensity</th>\n",
       "      <th>Steps</th>\n",
       "    </tr>\n",
       "  </thead>\n",
       "  <tbody>\n",
       "    <tr>\n",
       "      <th>count</th>\n",
       "      <td>6252.000000</td>\n",
       "      <td>6.252000e+03</td>\n",
       "      <td>6246.000000</td>\n",
       "      <td>6246.000000</td>\n",
       "    </tr>\n",
       "    <tr>\n",
       "      <th>mean</th>\n",
       "      <td>73.845170</td>\n",
       "      <td>5.638328e+09</td>\n",
       "      <td>16.101185</td>\n",
       "      <td>431.416747</td>\n",
       "    </tr>\n",
       "    <tr>\n",
       "      <th>std</th>\n",
       "      <td>14.799422</td>\n",
       "      <td>1.864900e+09</td>\n",
       "      <td>25.190960</td>\n",
       "      <td>811.960176</td>\n",
       "    </tr>\n",
       "    <tr>\n",
       "      <th>min</th>\n",
       "      <td>46.000000</td>\n",
       "      <td>2.022484e+09</td>\n",
       "      <td>0.000000</td>\n",
       "      <td>0.000000</td>\n",
       "    </tr>\n",
       "    <tr>\n",
       "      <th>25%</th>\n",
       "      <td>63.000000</td>\n",
       "      <td>4.558610e+09</td>\n",
       "      <td>0.000000</td>\n",
       "      <td>0.000000</td>\n",
       "    </tr>\n",
       "    <tr>\n",
       "      <th>50%</th>\n",
       "      <td>71.000000</td>\n",
       "      <td>5.577150e+09</td>\n",
       "      <td>7.000000</td>\n",
       "      <td>130.000000</td>\n",
       "    </tr>\n",
       "    <tr>\n",
       "      <th>75%</th>\n",
       "      <td>81.000000</td>\n",
       "      <td>6.962181e+09</td>\n",
       "      <td>22.000000</td>\n",
       "      <td>542.000000</td>\n",
       "    </tr>\n",
       "    <tr>\n",
       "      <th>max</th>\n",
       "      <td>167.000000</td>\n",
       "      <td>8.877689e+09</td>\n",
       "      <td>180.000000</td>\n",
       "      <td>10554.000000</td>\n",
       "    </tr>\n",
       "  </tbody>\n",
       "</table>\n",
       "</div>"
      ],
      "text/plain": [
       "             Beats            Id    Intensity         Steps\n",
       "count  6252.000000  6.252000e+03  6246.000000   6246.000000\n",
       "mean     73.845170  5.638328e+09    16.101185    431.416747\n",
       "std      14.799422  1.864900e+09    25.190960    811.960176\n",
       "min      46.000000  2.022484e+09     0.000000      0.000000\n",
       "25%      63.000000  4.558610e+09     0.000000      0.000000\n",
       "50%      71.000000  5.577150e+09     7.000000    130.000000\n",
       "75%      81.000000  6.962181e+09    22.000000    542.000000\n",
       "max     167.000000  8.877689e+09   180.000000  10554.000000"
      ]
     },
     "execution_count": 1,
     "metadata": {},
     "output_type": "execute_result"
    }
   ],
   "source": [
    "import pandas as pd\n",
    "\n",
    "# load dataset\n",
    "df = pd.read_csv('2022_04_22_hour_heartbeat_merged.csv')\n",
    "\n",
    "# Convert 'time' column to datetime format\n",
    "df['Time'] = pd.to_datetime(df['time'])\n",
    "df.describe()"
   ]
  },
  {
   "cell_type": "markdown",
   "id": "8c867443-88fd-4e36-9bbc-9eb6faf0263d",
   "metadata": {},
   "source": [
    "# Clean Dataset"
   ]
  },
  {
   "cell_type": "code",
   "execution_count": 2,
   "id": "2efcebba-3b7f-4171-86e1-34f8afe96e1a",
   "metadata": {},
   "outputs": [
    {
     "data": {
      "text/plain": [
       "time         0\n",
       "Beats        0\n",
       "Id           0\n",
       "Intensity    0\n",
       "Steps        0\n",
       "Time         0\n",
       "dtype: int64"
      ]
     },
     "execution_count": 2,
     "metadata": {},
     "output_type": "execute_result"
    }
   ],
   "source": [
    "# Fill the missing values with zeros for the specific patient 5553957443 in the full dataset\n",
    "df.loc[df['Id'] == 5553957443, ['Intensity', 'Steps']] = df.loc[df['Id'] == 5553957443, ['Intensity', 'Steps']].fillna(0)\n",
    "\n",
    "# Verify by checking for any remaining missing values for patient 5553957443\n",
    "remaining_missing_values_patient = df[df['Id'] == 5553957443].isnull().sum()\n",
    "\n",
    "remaining_missing_values_patient"
   ]
  },
  {
   "cell_type": "code",
   "execution_count": 3,
   "id": "a44d1865-4230-48e6-b54b-4ff835f04acd",
   "metadata": {},
   "outputs": [
    {
     "data": {
      "text/plain": [
       "time         0\n",
       "Beats        0\n",
       "Id           0\n",
       "Intensity    0\n",
       "Steps        0\n",
       "Time         0\n",
       "dtype: int64"
      ]
     },
     "execution_count": 3,
     "metadata": {},
     "output_type": "execute_result"
    }
   ],
   "source": [
    "# Checking for missing values in the dataset\n",
    "missing_values_by_patient = df[df.isnull().any(axis=1)]\n",
    "\n",
    "# Applying the previous valid observation to fill the remaining missing values for each patient with missing data\n",
    "for patient_id, patient_data in missing_values_by_patient.groupby('Id'):\n",
    "    \n",
    "    patient_df = df[df['Id'] == patient_id]\n",
    "    missing_indices = patient_data.index\n",
    "    # Apply the previous valid observation forward to fill the missing values\n",
    "    df.loc[patient_df.index, ['Intensity', 'Steps']] = patient_df[['Intensity', 'Steps']].fillna(method='ffill')\n",
    "\n",
    "# Check if all missing values are gone\n",
    "all_missing_values_filled = df.isna().sum()\n",
    "all_missing_values_filled"
   ]
  },
  {
   "cell_type": "markdown",
   "id": "56854372-1ce5-4ef6-8cab-108a880c06c1",
   "metadata": {},
   "source": [
    "# Split dataset into train, val, test and scale it"
   ]
  },
  {
   "cell_type": "code",
   "execution_count": 4,
   "id": "3678cfe5-4fc9-4283-b0de-5c5dfdd4815d",
   "metadata": {},
   "outputs": [
    {
     "data": {
      "text/plain": [
       "(      Beats  Intensity  Steps                Time\n",
       " 0  0.456790        0.0    0.0 2016-04-12 01:00:00\n",
       " 1  0.395062        0.0    0.0 2016-04-12 02:00:00\n",
       " 2  0.246914        0.0    0.0 2016-04-12 03:00:00\n",
       " 3  0.271605        0.0    0.0 2016-04-12 04:00:00\n",
       " 4  0.271605        0.0    0.0 2016-04-12 05:00:00,\n",
       "          Beats  Intensity     Steps                Time\n",
       " 4376  0.444444   0.255556  0.234160 2016-04-19 09:00:00\n",
       " 4377  0.555556   0.627778  0.702996 2016-04-19 10:00:00\n",
       " 4378  0.333333   0.044444  0.016185 2016-04-19 11:00:00\n",
       " 4379  0.271605   0.011111  0.007748 2016-04-19 12:00:00\n",
       " 4380  0.283951   0.066667  0.044421 2016-04-19 13:00:00)"
      ]
     },
     "execution_count": 4,
     "metadata": {},
     "output_type": "execute_result"
    }
   ],
   "source": [
    "from sklearn . preprocessing import MinMaxScaler\n",
    "\n",
    "\n",
    "split_index = int(len(df) * 0.7)\n",
    "\n",
    "# Split the data into training and testing sets\n",
    "train_data = df.iloc[:split_index]\n",
    "test_data = df.iloc[split_index:]\n",
    "\n",
    "# Define the columns we want to scale\n",
    "columns_to_scale = ['Beats', 'Intensity', 'Steps']\n",
    "\n",
    "# Initialize the MinMaxScaler\n",
    "scaler_1 = MinMaxScaler()\n",
    "\n",
    "# Fit the scaler on the training data aand transform it\n",
    "train_data_scaled = scaler_1.fit_transform(train_data[columns_to_scale])\n",
    "\n",
    "# Use the same scaler to transform the testing data\n",
    "test_data_scaled = scaler_1.transform(test_data[columns_to_scale])\n",
    "\n",
    "train_data_scaled_df = pd.DataFrame(train_data_scaled, index=train_data.index, columns=columns_to_scale)\n",
    "test_data_scaled_df = pd.DataFrame(test_data_scaled, index=test_data.index, columns=columns_to_scale)\n",
    "\n",
    "train_data_scaled_df['Time'] = train_data['Time']\n",
    "test_data_scaled_df['Time'] = test_data['Time']\n",
    "\n",
    "train_data_scaled_df.head(), test_data_scaled_df.head()"
   ]
  },
  {
   "cell_type": "markdown",
   "id": "b3c688fd-1005-4c37-82dc-db2966838849",
   "metadata": {},
   "source": [
    "# Add and Remove Features"
   ]
  },
  {
   "cell_type": "code",
   "execution_count": 5,
   "id": "e73b890a-1127-44f6-9495-439315f010c5",
   "metadata": {},
   "outputs": [],
   "source": [
    "# intensity an hour before\n",
    "train_data_scaled_df['Intensity_1h_before'] = train_data_scaled_df['Intensity'].shift(1)\n",
    "test_data_scaled_df['Intensity_1h_before'] = test_data_scaled_df['Intensity'].shift(1)\n",
    "\n",
    "# time based feature, hour of the day\n",
    "train_data_scaled_df['Hour_of_day'] = train_data_scaled_df['Time'].dt.hour\n",
    "test_data_scaled_df['Hour_of_day'] = test_data_scaled_df['Time'].dt.hour\n",
    "\n",
    "# remove time\n",
    "train_data_scaled_df = train_data_scaled_df.drop(['Time'], axis=1)\n",
    "test_data_scaled_df = test_data_scaled_df.drop(['Time'], axis=1)"
   ]
  },
  {
   "cell_type": "markdown",
   "id": "1a5c0c74-1192-497f-9506-b55e8692a7a9",
   "metadata": {},
   "source": [
    "# LSTM data preperation"
   ]
  },
  {
   "cell_type": "code",
   "execution_count": 6,
   "id": "03956800-dd76-447d-a5fd-6de4fd425349",
   "metadata": {},
   "outputs": [
    {
     "data": {
      "text/plain": [
       "(      Beats  Intensity  Steps  Intensity_1h_before  Hour_of_day\n",
       " 0  0.456790        0.0    0.0                  NaN     0.043478\n",
       " 1  0.395062        0.0    0.0                  0.0     0.086957\n",
       " 2  0.246914        0.0    0.0                  0.0     0.130435\n",
       " 3  0.271605        0.0    0.0                  0.0     0.173913\n",
       " 4  0.271605        0.0    0.0                  0.0     0.217391,\n",
       "          Beats  Intensity     Steps  Intensity_1h_before  Hour_of_day\n",
       " 4376  0.444444   0.255556  0.234160                  NaN     0.391304\n",
       " 4377  0.555556   0.627778  0.702996             0.255556     0.434783\n",
       " 4378  0.333333   0.044444  0.016185             0.627778     0.478261\n",
       " 4379  0.271605   0.011111  0.007748             0.044444     0.521739\n",
       " 4380  0.283951   0.066667  0.044421             0.011111     0.565217)"
      ]
     },
     "execution_count": 6,
     "metadata": {},
     "output_type": "execute_result"
    }
   ],
   "source": [
    "import numpy as np\n",
    "# Initialize the MinMaxScaler\n",
    "scaler = MinMaxScaler()\n",
    "\n",
    "np_array = np.array(train_data_scaled_df['Hour_of_day']).reshape(-1, 1)\n",
    "\n",
    "# Fit the scaler on the training data aand transform it\n",
    "train_data_scaled = scaler.fit_transform(np_array)\n",
    "\n",
    "test_np_array = np.array(test_data_scaled_df['Hour_of_day']).reshape(-1, 1)\n",
    "\n",
    "# Use the same scaler to transform the testing data\n",
    "test_data_scaled = scaler.transform(test_np_array)\n",
    "\n",
    "train_data_scaled_df['Hour_of_day'] = train_data_scaled\n",
    "test_data_scaled_df['Hour_of_day'] = test_data_scaled\n",
    "\n",
    "train_data_scaled_df.head(), test_data_scaled_df.head()"
   ]
  },
  {
   "cell_type": "markdown",
   "id": "131914ab-c6b9-40ad-93f0-227a56306574",
   "metadata": {},
   "source": [
    "## Create Sequences"
   ]
  },
  {
   "cell_type": "code",
   "execution_count": 7,
   "id": "bd55b5ea-a76f-429e-bac1-5f5159882593",
   "metadata": {},
   "outputs": [
    {
     "data": {
      "text/plain": [
       "((4365, 10, 4), (4365,))"
      ]
     },
     "execution_count": 7,
     "metadata": {},
     "output_type": "execute_result"
    }
   ],
   "source": [
    "# Define sequence length and prepare the final sequences for training\n",
    "import numpy as np\n",
    "train_data_scaled_df.dropna(inplace=True)\n",
    "train_data_scaled_df.reset_index(drop=True, inplace=True)\n",
    "sequence_length = 10  # Length of each sequence\n",
    "y = train_data_scaled_df['Intensity'] \n",
    "X = train_data_scaled_df.drop(['Intensity'], axis=1)  # Features\n",
    "X_seq = []\n",
    "y_seq = []\n",
    "\n",
    "for i in range(sequence_length, len(train_data_scaled_df)):\n",
    "    X_seq.append(X[i-sequence_length:i])\n",
    "    y_seq.append(y[i])\n",
    "\n",
    "X_train_seq = np.array(X_seq)\n",
    "y_train_seq = np.array(y_seq)\n",
    "\n",
    "# Display shape of the sequences\n",
    "X_train_seq.shape, y_train_seq.shape"
   ]
  },
  {
   "cell_type": "code",
   "execution_count": 8,
   "id": "9ed8815d-dcb6-4d86-9c71-2df078e25e20",
   "metadata": {},
   "outputs": [
    {
     "data": {
      "text/plain": [
       "((1865, 10, 4), (1865,))"
      ]
     },
     "execution_count": 8,
     "metadata": {},
     "output_type": "execute_result"
    }
   ],
   "source": [
    "# Define sequence length and prepare the final sequences for test data\n",
    "import numpy as np\n",
    "test_data_scaled_df.dropna(inplace=True)\n",
    "test_data_scaled_df.reset_index(drop=True, inplace=True)\n",
    "y = test_data_scaled_df['Intensity'] \n",
    "X = test_data_scaled_df.drop(['Intensity'], axis=1)  # Features\n",
    "\n",
    "sequence_length = 10 # Length of each sequence\n",
    "\n",
    "X_seq = []\n",
    "y_seq = []\n",
    "\n",
    "for i in range(sequence_length, len(test_data_scaled_df)):\n",
    "    X_seq.append(X[i-sequence_length:i])\n",
    "    y_seq.append(y[i])\n",
    "\n",
    "X_test_seq = np.array(X_seq)\n",
    "y_test_seq = np.array(y_seq)\n",
    "\n",
    "# Display shape of the sequences\n",
    "X_test_seq.shape, y_test_seq.shape"
   ]
  },
  {
   "cell_type": "markdown",
   "id": "3e373140-36f3-4eca-92e5-cde547e9da56",
   "metadata": {},
   "source": [
    "# Build LSTM model"
   ]
  },
  {
   "cell_type": "code",
   "execution_count": 9,
   "id": "f35e9003-08f7-4e31-86dc-57e3ec2b56f6",
   "metadata": {},
   "outputs": [],
   "source": [
    "# Define the model\n",
    "import torch.nn as nn\n",
    "import torch.optim as optim\n",
    "from torch.utils.data import DataLoader, TensorDataset\n",
    "\n",
    "class LSTM(nn.Module):\n",
    "    def __init__(self, input_size, hidden_size, num_layers, output_size):\n",
    "        super(LSTM, self).__init__()\n",
    "        self.hidden_size = hidden_size\n",
    "        self.num_layers = num_layers\n",
    "\n",
    "        # LSTM layer\n",
    "        self.lstm = nn.LSTM(input_size, hidden_size, num_layers, batch_first=True)\n",
    "\n",
    "        # Fully connected layer\n",
    "        self.linear = nn.Linear(hidden_size, output_size)\n",
    "\n",
    "    def forward(self, x):\n",
    "        # out stands for hidden state h in every time step\n",
    "        # _ stands for cell state c in every time step\n",
    "        out, _ = self.lstm(x)\n",
    "\n",
    "        # out[:, -1, :] selects the hidden state of the last time step for each sequence in the batch.\n",
    "        # self.linear maps the hidden state to the output dimesnion feature\n",
    "        out = self.linear(out[:, -1, :])\n",
    "        return out"
   ]
  },
  {
   "cell_type": "code",
   "execution_count": 10,
   "id": "c3279d04-ac0f-41ec-9134-549d7827637b",
   "metadata": {},
   "outputs": [],
   "source": [
    "# model configuration\n",
    "input_size = X_train_seq.shape[2]  # number of features\n",
    "hidden_size = 64  # number of features in hidden states\n",
    "num_layers = 2  # number of stacked LSTM layers\n",
    "output_size = 1  # number of output features\n",
    "\n",
    "# Initialize the model\n",
    "model = LSTM(input_size, hidden_size, num_layers, output_size)\n",
    "\n",
    "# Define the loss function and the optimizer\n",
    "criterion = nn.MSELoss()\n",
    "optimizer = optim.Adam(model.parameters(), lr=0.001)"
   ]
  },
  {
   "cell_type": "markdown",
   "id": "0773a746-4995-44b7-b641-b3c96328c2c4",
   "metadata": {},
   "source": [
    "# Train LSTM model"
   ]
  },
  {
   "cell_type": "code",
   "execution_count": 11,
   "id": "c843dd38-46f2-486d-ad1c-c7e72f7a66d8",
   "metadata": {},
   "outputs": [],
   "source": [
    "from sklearn.model_selection import train_test_split\n",
    "# Split data into training and evaluation sets\n",
    "X_train, X_val, y_train, y_val = train_test_split(X_train_seq, y_train_seq, test_size=0.2, shuffle =False)"
   ]
  },
  {
   "cell_type": "code",
   "execution_count": 12,
   "id": "47d45368-9f78-4e8c-91a5-220103aa6b4d",
   "metadata": {},
   "outputs": [],
   "source": [
    "# Convert to PyTorch tensors\n",
    "import torch\n",
    "X_train_tensor = torch.FloatTensor(X_train)\n",
    "y_train_tensor = torch.FloatTensor(y_train).view(-1, 1)\n",
    "\n",
    "X_val_tensor = torch.FloatTensor(X_val)\n",
    "y_val_tensor = torch.FloatTensor(y_val).view(-1,1)\n",
    "# Prepare DataLoader for training data\n",
    "batch_size = 64\n",
    "train_dataset = TensorDataset(X_train_tensor , y_train_tensor)\n",
    "train_loader = DataLoader(train_dataset , batch_size=batch_size , shuffle=True)\n",
    "val_dataset = TensorDataset(X_val_tensor, y_val_tensor)\n",
    "val_loader = DataLoader(val_dataset, batch_size=64, shuffle=False)"
   ]
  },
  {
   "cell_type": "code",
   "execution_count": 13,
   "id": "d84e743c-8824-4b51-b80c-e697501637c0",
   "metadata": {},
   "outputs": [
    {
     "name": "stdout",
     "output_type": "stream",
     "text": [
      "Epoch [1/50], Training_Loss: 0.0208\n",
      "Epoch [1/50], Eval_Loss: 0.0098\n",
      "Epoch [2/50], Training_Loss: 0.0173\n",
      "Epoch [2/50], Eval_Loss: 0.0080\n",
      "Epoch [3/50], Training_Loss: 0.0164\n",
      "Epoch [3/50], Eval_Loss: 0.0078\n",
      "Epoch [4/50], Training_Loss: 0.0163\n",
      "Epoch [4/50], Eval_Loss: 0.0081\n",
      "Epoch [5/50], Training_Loss: 0.0163\n",
      "Epoch [5/50], Eval_Loss: 0.0078\n",
      "Epoch [6/50], Training_Loss: 0.0161\n",
      "Epoch [6/50], Eval_Loss: 0.0079\n",
      "Epoch [7/50], Training_Loss: 0.0161\n",
      "Epoch [7/50], Eval_Loss: 0.0077\n",
      "Epoch [8/50], Training_Loss: 0.0161\n",
      "Epoch [8/50], Eval_Loss: 0.0078\n",
      "Epoch [9/50], Training_Loss: 0.0158\n",
      "Epoch [9/50], Eval_Loss: 0.0074\n",
      "Epoch [10/50], Training_Loss: 0.0158\n",
      "Epoch [10/50], Eval_Loss: 0.0074\n",
      "Epoch [11/50], Training_Loss: 0.0156\n",
      "Epoch [11/50], Eval_Loss: 0.0079\n",
      "Epoch [12/50], Training_Loss: 0.0156\n",
      "Epoch [12/50], Eval_Loss: 0.0072\n",
      "Epoch [13/50], Training_Loss: 0.0154\n",
      "Epoch [13/50], Eval_Loss: 0.0072\n",
      "Epoch [14/50], Training_Loss: 0.0156\n",
      "Epoch [14/50], Eval_Loss: 0.0073\n",
      "Epoch [15/50], Training_Loss: 0.0154\n",
      "Epoch [15/50], Eval_Loss: 0.0071\n",
      "Epoch [16/50], Training_Loss: 0.0154\n",
      "Epoch [16/50], Eval_Loss: 0.0071\n",
      "Epoch [17/50], Training_Loss: 0.0153\n",
      "Epoch [17/50], Eval_Loss: 0.0070\n",
      "Epoch [18/50], Training_Loss: 0.0152\n",
      "Epoch [18/50], Eval_Loss: 0.0070\n",
      "Epoch [19/50], Training_Loss: 0.0152\n",
      "Epoch [19/50], Eval_Loss: 0.0073\n",
      "Epoch [20/50], Training_Loss: 0.0150\n",
      "Epoch [20/50], Eval_Loss: 0.0069\n",
      "Epoch [21/50], Training_Loss: 0.0150\n",
      "Epoch [21/50], Eval_Loss: 0.0071\n",
      "Epoch [22/50], Training_Loss: 0.0149\n",
      "Epoch [22/50], Eval_Loss: 0.0068\n",
      "Epoch [23/50], Training_Loss: 0.0148\n",
      "Epoch [23/50], Eval_Loss: 0.0069\n",
      "Epoch [24/50], Training_Loss: 0.0148\n",
      "Epoch [24/50], Eval_Loss: 0.0069\n",
      "Epoch [25/50], Training_Loss: 0.0146\n",
      "Epoch [25/50], Eval_Loss: 0.0071\n",
      "Epoch [26/50], Training_Loss: 0.0146\n",
      "Epoch [26/50], Eval_Loss: 0.0067\n",
      "Epoch [27/50], Training_Loss: 0.0143\n",
      "Epoch [27/50], Eval_Loss: 0.0071\n",
      "Epoch [28/50], Training_Loss: 0.0143\n",
      "Epoch [28/50], Eval_Loss: 0.0067\n",
      "Epoch [29/50], Training_Loss: 0.0142\n",
      "Epoch [29/50], Eval_Loss: 0.0071\n",
      "Epoch [30/50], Training_Loss: 0.0140\n",
      "Epoch [30/50], Eval_Loss: 0.0064\n",
      "Epoch [31/50], Training_Loss: 0.0141\n",
      "Epoch [31/50], Eval_Loss: 0.0067\n",
      "Epoch [32/50], Training_Loss: 0.0141\n",
      "Epoch [32/50], Eval_Loss: 0.0068\n",
      "Epoch [33/50], Training_Loss: 0.0139\n",
      "Epoch [33/50], Eval_Loss: 0.0065\n",
      "Epoch [34/50], Training_Loss: 0.0138\n",
      "Epoch [34/50], Eval_Loss: 0.0067\n",
      "Epoch [35/50], Training_Loss: 0.0135\n",
      "Epoch [35/50], Eval_Loss: 0.0064\n",
      "Epoch [36/50], Training_Loss: 0.0135\n",
      "Epoch [36/50], Eval_Loss: 0.0066\n",
      "Epoch [37/50], Training_Loss: 0.0135\n",
      "Epoch [37/50], Eval_Loss: 0.0067\n",
      "Epoch [38/50], Training_Loss: 0.0136\n",
      "Epoch [38/50], Eval_Loss: 0.0067\n",
      "Epoch [39/50], Training_Loss: 0.0134\n",
      "Epoch [39/50], Eval_Loss: 0.0064\n",
      "Epoch [40/50], Training_Loss: 0.0134\n",
      "Epoch [40/50], Eval_Loss: 0.0066\n",
      "Epoch [41/50], Training_Loss: 0.0133\n",
      "Epoch [41/50], Eval_Loss: 0.0060\n",
      "Epoch [42/50], Training_Loss: 0.0133\n",
      "Epoch [42/50], Eval_Loss: 0.0059\n",
      "Epoch [43/50], Training_Loss: 0.0132\n",
      "Epoch [43/50], Eval_Loss: 0.0063\n",
      "Epoch [44/50], Training_Loss: 0.0130\n",
      "Epoch [44/50], Eval_Loss: 0.0065\n",
      "Epoch [45/50], Training_Loss: 0.0132\n",
      "Epoch [45/50], Eval_Loss: 0.0063\n",
      "Epoch [46/50], Training_Loss: 0.0131\n",
      "Epoch [46/50], Eval_Loss: 0.0065\n",
      "Epoch [47/50], Training_Loss: 0.0131\n",
      "Epoch [47/50], Eval_Loss: 0.0065\n",
      "Epoch [48/50], Training_Loss: 0.0130\n",
      "Epoch [48/50], Eval_Loss: 0.0069\n",
      "Epoch [49/50], Training_Loss: 0.0130\n",
      "Epoch [49/50], Eval_Loss: 0.0068\n",
      "Epoch [50/50], Training_Loss: 0.0129\n",
      "Epoch [50/50], Eval_Loss: 0.0063\n"
     ]
    }
   ],
   "source": [
    "# Training Loop\n",
    "device = torch.device(\"cuda\" if torch.cuda.is_available() else \"cpu\")\n",
    "num_epochs = 50\n",
    "model.to(device)\n",
    "for epoch in range(num_epochs):\n",
    "    total_loss = 0.0 # To accumulate loss for each epoch\n",
    "    model.train()\n",
    "    for batch_X , batch_y in train_loader:\n",
    "        # Move data to the appropriate device if necessary (e.g., GPU)\n",
    "        batch_X , batch_y = batch_X.to(device), batch_y.to(device)\n",
    "        # Zero the parameter gradients\n",
    "        optimizer.zero_grad()\n",
    "        # Forward pass\n",
    "        outputs = model(batch_X)\n",
    "        loss = criterion(outputs, batch_y)\n",
    "        # Backward pass and optimization\n",
    "        loss.backward()\n",
    "        optimizer.step()\n",
    "        \n",
    "        total_loss += loss.item() * batch_X.size(0)\n",
    "        # Calculate average loss for the epoch\n",
    "    epoch_loss = total_loss / len(train_loader.dataset)\n",
    "    print(f\"Epoch [{epoch+1}/{num_epochs}], Training_Loss: {epoch_loss:.4f}\")\n",
    "    \n",
    "    model.eval()\n",
    "    total_loss = 0.0\n",
    "    with torch.no_grad():\n",
    "        for batch_X, batch_y in val_loader:\n",
    "            batch_X , batch_y = batch_X.to(device), batch_y.to(device)\n",
    "            outputs = model(batch_X)\n",
    "            loss = criterion(outputs, batch_y)\n",
    "            total_loss += loss.item() * batch_X.size(0)\n",
    "        epoch_loss = total_loss / len(val_loader.dataset)\n",
    "        print(f\"Epoch [{epoch+1}/{num_epochs}], Eval_Loss: {epoch_loss:.4f}\")"
   ]
  },
  {
   "cell_type": "markdown",
   "id": "a42e12e5-6510-4f9e-972f-ac511a97ab77",
   "metadata": {},
   "source": [
    "# Evaluation"
   ]
  },
  {
   "cell_type": "code",
   "execution_count": 14,
   "id": "12ebc28e-4390-4be3-8e70-c4f47cb1a802",
   "metadata": {},
   "outputs": [],
   "source": [
    "X_test_tensor = torch.FloatTensor(X_test_seq)\n",
    "y_test_tensor = torch.FloatTensor(y_test_seq).view(-1, 1)\n",
    "\n",
    "test_dataset = TensorDataset(X_test_tensor, y_test_tensor)\n",
    "test_loader = DataLoader(test_dataset, batch_size=64, shuffle=False)\n",
    "model.eval()\n",
    "\n",
    "# Store all predictions and actual values\n",
    "all_predictions = []\n",
    "actual_values = []\n",
    "\n",
    "with torch.no_grad():\n",
    "    for batch_X, batch_y in test_loader:\n",
    "        batch_X , batch_y = batch_X.to(device), batch_y.to(device)\n",
    "        outputs = model(batch_X)\n",
    "        \n",
    "        # Store predictions and actual values\n",
    "        all_predictions.extend(outputs.numpy())\n",
    "        actual_values.extend(batch_y.numpy())"
   ]
  },
  {
   "cell_type": "code",
   "execution_count": 15,
   "id": "d4fbbed7-ab80-40ac-af16-f9e90de55699",
   "metadata": {},
   "outputs": [
    {
     "name": "stdout",
     "output_type": "stream",
     "text": [
      "Mean Squared Error on Test Set: 0.0199\n"
     ]
    }
   ],
   "source": [
    "from sklearn.metrics import mean_squared_error\n",
    "# Compute Mean Squared Error on test set\n",
    "mse = mean_squared_error(actual_values , all_predictions)\n",
    "print(f\"Mean Squared Error on Test Set: {mse:.4f}\")"
   ]
  },
  {
   "cell_type": "markdown",
   "id": "a1e271dd-2676-4565-8e21-7ad3938258f3",
   "metadata": {},
   "source": [
    "## Second metric: RMSE"
   ]
  },
  {
   "cell_type": "code",
   "execution_count": 16,
   "id": "c1768f7f-8ed5-4de1-917e-add579ae4418",
   "metadata": {},
   "outputs": [
    {
     "name": "stdout",
     "output_type": "stream",
     "text": [
      "Root Mean Squared Error (RMSE): 0.1412\n"
     ]
    }
   ],
   "source": [
    "rmse = np.sqrt(mse)\n",
    "print(f\"Root Mean Squared Error (RMSE): {rmse:.4f}\")"
   ]
  },
  {
   "cell_type": "markdown",
   "id": "0087bae5-e1dc-4360-b624-e705106fdeeb",
   "metadata": {},
   "source": [
    "## Third metrix: RMSLE"
   ]
  },
  {
   "cell_type": "code",
   "execution_count": 17,
   "id": "ccb0097d-c69b-428a-b1c1-84d42690fffb",
   "metadata": {},
   "outputs": [
    {
     "name": "stdout",
     "output_type": "stream",
     "text": [
      "Root Mean Squared Logaritmic Error (RMSLE): 0.1068\n"
     ]
    }
   ],
   "source": [
    "import torch\n",
    "import numpy as np\n",
    "\n",
    "# list to numpy\n",
    "all_predictions_array = np.array(all_predictions)\n",
    "actual_values_array = np.array(actual_values)\n",
    "\n",
    "# Convert arrays to PyTorch tensors\n",
    "all_predictions_tensor = torch.tensor(all_predictions_array, dtype=torch.float32)\n",
    "actual_values_tensor = torch.tensor(actual_values_array, dtype=torch.float32)\n",
    "\n",
    "# Calculate log values and ensure addition inside the log (to avoid log(0))\n",
    "log_predictions = torch.log(all_predictions_tensor + 1)\n",
    "log_actuals = torch.log(actual_values_tensor + 1)\n",
    "\n",
    "# Calculate mean squared error\n",
    "mse = torch.mean((log_predictions - log_actuals) ** 2)\n",
    "\n",
    "# Calculate the square root (RMSLE)\n",
    "rmsle = torch.sqrt(mse)\n",
    "print(f\"Root Mean Squared Logaritmic Error (RMSLE): {rmsle:.4f}\")"
   ]
  },
  {
   "cell_type": "markdown",
   "id": "805a2c82-8e48-4f09-837c-4dc5b8e34b0b",
   "metadata": {},
   "source": [
    "## Monitor actual results"
   ]
  },
  {
   "cell_type": "code",
   "execution_count": 18,
   "id": "6cb21ffa-cbf2-4730-80ba-d38e1ee65e53",
   "metadata": {},
   "outputs": [
    {
     "data": {
      "image/png": "[encoded data removed]",
      "text/plain": [
       "<Figure size 1500x600 with 1 Axes>"
      ]
     },
     "metadata": {},
     "output_type": "display_data"
    }
   ],
   "source": [
    "import matplotlib.pyplot as plt\n",
    "\n",
    "# scale targets back to original scale\n",
    "\n",
    "all_predictions = np.array(all_predictions).reshape(-1, 1)\n",
    "dummy_data = np.zeros((all_predictions.shape[0], 3))\n",
    "\n",
    "# Assuming 'Intensity' was the second column in the original dataset\n",
    "# Place the scaled 'Intensity' data in the correct column\n",
    "dummy_data[:, 1] = all_predictions.squeeze()\n",
    "\n",
    "# Perform inverse transformation\n",
    "intensity_original_scale = scaler_1.inverse_transform(dummy_data)[:, 1]\n",
    "predictions_array = np.array(intensity_original_scale).flatten()\n",
    "\n",
    "# do the same with the targets\n",
    "actual_values = np.array(actual_values).reshape(-1, 1)\n",
    "dummy_data_target = np.zeros((actual_values.shape[0], 3))\n",
    "dummy_data_target[:, 1] = actual_values.squeeze()\n",
    "\n",
    "target_intensity_original_scale = scaler_1.inverse_transform(dummy_data_target)[:, 1]\n",
    "actual_values_array = np.array(target_intensity_original_scale).flatten()\n",
    "\n",
    "# Create a line plot to compare the first 100 predicted and actual values\n",
    "plt.figure(figsize=(15, 6))\n",
    "plt.plot(predictions_array[:200], label='Predicted', color='red')\n",
    "plt.plot(actual_values_array[:200], label='Actual', color='blue')\n",
    "plt.xlabel('Time Step')\n",
    "plt.ylabel('TotalIntensity')\n",
    "plt.title('Comparison of Predicted and Actual Values')\n",
    "plt.legend()\n",
    "plt.show()"
   ]
  },
  {
   "cell_type": "markdown",
   "id": "32a7070e-2870-4317-95ce-ec384df62422",
   "metadata": {},
   "source": [
    "# Interpretation of Results: SHAP Analysis"
   ]
  },
  {
   "cell_type": "code",
   "execution_count": 19,
   "id": "196b2fe4-c7f0-4813-be03-aba227327a0d",
   "metadata": {},
   "outputs": [
    {
     "name": "stdout",
     "output_type": "stream",
     "text": [
      "torch.Size([10, 10, 4])\n"
     ]
    },
    {
     "name": "stderr",
     "output_type": "stream",
     "text": [
      "unrecognized nn.Module: LSTM\n"
     ]
    },
    {
     "ename": "AssertionError",
     "evalue": "The SHAP explanations do not sum up to the model's output! This is either because of a rounding error or because an operator in your computation graph was not fully supported. If the sum difference of %f is significant compared to the scale of your model outputs, please post as a github issue, with a reproducible example so we can debug it. Used framework: pytorch - Max. diff: 0.013048387157823527 - Tolerance: 0.01",
     "output_type": "error",
     "traceback": [
      "\u001B[0;31m---------------------------------------------------------------------------\u001B[0m",
      "\u001B[0;31mAssertionError\u001B[0m                            Traceback (most recent call last)",
      "Cell \u001B[0;32mIn[19], line 9\u001B[0m\n\u001B[1;32m      6\u001B[0m \u001B[38;5;28mprint\u001B[39m(batch_X\u001B[38;5;241m.\u001B[39mshape)\n\u001B[1;32m      7\u001B[0m explainer \u001B[38;5;241m=\u001B[39m shap\u001B[38;5;241m.\u001B[39mDeepExplainer(model, batch_X\u001B[38;5;241m.\u001B[39mto(device))\n\u001B[0;32m----> 9\u001B[0m shap_values \u001B[38;5;241m=\u001B[39m \u001B[43mexplainer\u001B[49m\u001B[38;5;241;43m.\u001B[39;49m\u001B[43mshap_values\u001B[49m\u001B[43m(\u001B[49m\u001B[43mbatch_X\u001B[49m\u001B[38;5;241;43m.\u001B[39;49m\u001B[43mto\u001B[49m\u001B[43m(\u001B[49m\u001B[43mdevice\u001B[49m\u001B[43m)\u001B[49m\u001B[43m)\u001B[49m\n\u001B[1;32m     11\u001B[0m shap\u001B[38;5;241m.\u001B[39minitjs()\n\u001B[1;32m     12\u001B[0m shap\u001B[38;5;241m.\u001B[39mforce_plot(explainer\u001B[38;5;241m.\u001B[39mexpected_value[\u001B[38;5;241m0\u001B[39m]\u001B[38;5;241m.\u001B[39mnumpy(), shap_values[\u001B[38;5;241m0\u001B[39m][\u001B[38;5;241m0\u001B[39m], batch_X[\u001B[38;5;241m0\u001B[39m]\u001B[38;5;241m.\u001B[39mnumpy())\n",
      "File \u001B[0;32m~/opt/miniconda3/envs/general/lib/python3.9/site-packages/shap/explainers/_deep/__init__.py:125\u001B[0m, in \u001B[0;36mDeepExplainer.shap_values\u001B[0;34m(self, X, ranked_outputs, output_rank_order, check_additivity)\u001B[0m\n\u001B[1;32m     91\u001B[0m \u001B[38;5;28;01mdef\u001B[39;00m \u001B[38;5;21mshap_values\u001B[39m(\u001B[38;5;28mself\u001B[39m, X, ranked_outputs\u001B[38;5;241m=\u001B[39m\u001B[38;5;28;01mNone\u001B[39;00m, output_rank_order\u001B[38;5;241m=\u001B[39m\u001B[38;5;124m'\u001B[39m\u001B[38;5;124mmax\u001B[39m\u001B[38;5;124m'\u001B[39m, check_additivity\u001B[38;5;241m=\u001B[39m\u001B[38;5;28;01mTrue\u001B[39;00m):\n\u001B[1;32m     92\u001B[0m \u001B[38;5;250m    \u001B[39m\u001B[38;5;124;03m\"\"\" Return approximate SHAP values for the model applied to the data given by X.\u001B[39;00m\n\u001B[1;32m     93\u001B[0m \n\u001B[1;32m     94\u001B[0m \u001B[38;5;124;03m    Parameters\u001B[39;00m\n\u001B[0;32m   (...)\u001B[0m\n\u001B[1;32m    123\u001B[0m \u001B[38;5;124;03m        were chosen as \"top\".\u001B[39;00m\n\u001B[1;32m    124\u001B[0m \u001B[38;5;124;03m    \"\"\"\u001B[39;00m\n\u001B[0;32m--> 125\u001B[0m     \u001B[38;5;28;01mreturn\u001B[39;00m \u001B[38;5;28;43mself\u001B[39;49m\u001B[38;5;241;43m.\u001B[39;49m\u001B[43mexplainer\u001B[49m\u001B[38;5;241;43m.\u001B[39;49m\u001B[43mshap_values\u001B[49m\u001B[43m(\u001B[49m\u001B[43mX\u001B[49m\u001B[43m,\u001B[49m\u001B[43m \u001B[49m\u001B[43mranked_outputs\u001B[49m\u001B[43m,\u001B[49m\u001B[43m \u001B[49m\u001B[43moutput_rank_order\u001B[49m\u001B[43m,\u001B[49m\u001B[43m \u001B[49m\u001B[43mcheck_additivity\u001B[49m\u001B[38;5;241;43m=\u001B[39;49m\u001B[43mcheck_additivity\u001B[49m\u001B[43m)\u001B[49m\n",
      "File \u001B[0;32m~/opt/miniconda3/envs/general/lib/python3.9/site-packages/shap/explainers/_deep/deep_pytorch.py:218\u001B[0m, in \u001B[0;36mPyTorchDeep.shap_values\u001B[0;34m(self, X, ranked_outputs, output_rank_order, check_additivity)\u001B[0m\n\u001B[1;32m    215\u001B[0m         \u001B[38;5;28;01mwith\u001B[39;00m torch\u001B[38;5;241m.\u001B[39mno_grad():\n\u001B[1;32m    216\u001B[0m             model_output_values \u001B[38;5;241m=\u001B[39m \u001B[38;5;28mself\u001B[39m\u001B[38;5;241m.\u001B[39mmodel(\u001B[38;5;241m*\u001B[39mX)\n\u001B[0;32m--> 218\u001B[0m     \u001B[43m_check_additivity\u001B[49m\u001B[43m(\u001B[49m\u001B[38;5;28;43mself\u001B[39;49m\u001B[43m,\u001B[49m\u001B[43m \u001B[49m\u001B[43mmodel_output_values\u001B[49m\u001B[38;5;241;43m.\u001B[39;49m\u001B[43mcpu\u001B[49m\u001B[43m(\u001B[49m\u001B[43m)\u001B[49m\u001B[43m,\u001B[49m\u001B[43m \u001B[49m\u001B[43moutput_phis\u001B[49m\u001B[43m)\u001B[49m\n\u001B[1;32m    220\u001B[0m \u001B[38;5;28;01mif\u001B[39;00m \u001B[38;5;129;01mnot\u001B[39;00m \u001B[38;5;28mself\u001B[39m\u001B[38;5;241m.\u001B[39mmulti_output:\n\u001B[1;32m    221\u001B[0m     \u001B[38;5;28;01mreturn\u001B[39;00m output_phis[\u001B[38;5;241m0\u001B[39m]\n",
      "File \u001B[0;32m~/opt/miniconda3/envs/general/lib/python3.9/site-packages/shap/explainers/_deep/deep_utils.py:20\u001B[0m, in \u001B[0;36m_check_additivity\u001B[0;34m(explainer, model_output_values, output_phis)\u001B[0m\n\u001B[1;32m     16\u001B[0m         diffs \u001B[38;5;241m-\u001B[39m\u001B[38;5;241m=\u001B[39m output_phis[l][i]\u001B[38;5;241m.\u001B[39msum(axis\u001B[38;5;241m=\u001B[39m\u001B[38;5;28mtuple\u001B[39m(\u001B[38;5;28mrange\u001B[39m(\u001B[38;5;241m1\u001B[39m, output_phis[l][i]\u001B[38;5;241m.\u001B[39mndim)))\n\u001B[1;32m     18\u001B[0m maxdiff \u001B[38;5;241m=\u001B[39m np\u001B[38;5;241m.\u001B[39mabs(diffs)\u001B[38;5;241m.\u001B[39mmax()\n\u001B[0;32m---> 20\u001B[0m \u001B[38;5;28;01massert\u001B[39;00m maxdiff \u001B[38;5;241m<\u001B[39m TOLERANCE, \u001B[38;5;124m\"\u001B[39m\u001B[38;5;124mThe SHAP explanations do not sum up to the model\u001B[39m\u001B[38;5;124m'\u001B[39m\u001B[38;5;124ms output! This is either because of a \u001B[39m\u001B[38;5;124m\"\u001B[39m \\\n\u001B[1;32m     21\u001B[0m                             \u001B[38;5;124m\"\u001B[39m\u001B[38;5;124mrounding error or because an operator in your computation graph was not fully supported. If \u001B[39m\u001B[38;5;124m\"\u001B[39m \\\n\u001B[1;32m     22\u001B[0m                             \u001B[38;5;124m\"\u001B[39m\u001B[38;5;124mthe sum difference of \u001B[39m\u001B[38;5;132;01m%f\u001B[39;00m\u001B[38;5;124m is significant compared to the scale of your model outputs, please post \u001B[39m\u001B[38;5;124m\"\u001B[39m \\\n\u001B[1;32m     23\u001B[0m                             \u001B[38;5;124mf\u001B[39m\u001B[38;5;124m\"\u001B[39m\u001B[38;5;124mas a github issue, with a reproducible example so we can debug it. Used framework: \u001B[39m\u001B[38;5;132;01m{\u001B[39;00mexplainer\u001B[38;5;241m.\u001B[39mframework\u001B[38;5;132;01m}\u001B[39;00m\u001B[38;5;124m - Max. diff: \u001B[39m\u001B[38;5;132;01m{\u001B[39;00mmaxdiff\u001B[38;5;132;01m}\u001B[39;00m\u001B[38;5;124m - Tolerance: \u001B[39m\u001B[38;5;132;01m{\u001B[39;00mTOLERANCE\u001B[38;5;132;01m}\u001B[39;00m\u001B[38;5;124m\"\u001B[39m\n",
      "\u001B[0;31mAssertionError\u001B[0m: The SHAP explanations do not sum up to the model's output! This is either because of a rounding error or because an operator in your computation graph was not fully supported. If the sum difference of %f is significant compared to the scale of your model outputs, please post as a github issue, with a reproducible example so we can debug it. Used framework: pytorch - Max. diff: 0.013048387157823527 - Tolerance: 0.01"
     ]
    }
   ],
   "source": [
    "import shap\n",
    "shap_loader = DataLoader(test_dataset, batch_size=10, shuffle=False)\n",
    "# Retrieve the first batch\n",
    "for batch_X, batch_y in shap_loader:\n",
    "    break\n",
    "print(batch_X.shape)\n",
    "explainer = shap.DeepExplainer(model, batch_X.to(device))\n",
    "\n",
    "shap_values = explainer.shap_values(batch_X.to(device))\n",
    "\n",
    "shap.initjs()\n",
    "shap.force_plot(explainer.expected_value[0].numpy(), shap_values[0][0], batch_X[0].numpy())"
   ]
  },
  {
   "cell_type": "markdown",
   "id": "260b71c9-57dc-4605-b97b-7db972d6ef33",
   "metadata": {},
   "source": [
    "## Feature Importance using Permutation Importance"
   ]
  },
  {
   "cell_type": "code",
   "execution_count": 26,
   "id": "d5fb5d0b-2daf-4114-9ca0-a7a8c70b1843",
   "metadata": {},
   "outputs": [
    {
     "name": "stdout",
     "output_type": "stream",
     "text": [
      "Heart_Beat, Steps, Intensity_1h_before, hour_of_the_day\n",
      "[-0.00010676  0.00378982  0.00026332  0.00158409]\n"
     ]
    }
   ],
   "source": [
    "import numpy as np\n",
    "import torch\n",
    "from sklearn.metrics import mean_squared_error\n",
    "\n",
    "\n",
    "def evaluate_model(model, X, y):\n",
    "    model.eval()\n",
    "    with torch.no_grad():\n",
    "        predictions = model(X)\n",
    "    return mean_squared_error(y.cpu().numpy(), predictions.cpu().numpy())\n",
    "\n",
    "def permutation_importance(model, X, y, feature_idx, n_repeats=30):\n",
    "    baseline_score = evaluate_model(model, X, y)\n",
    "    scores = []\n",
    "    for _ in range(n_repeats):\n",
    "        X_permuted = X.clone()\n",
    "        # Permute the specified feature through time for each sequence in the batch\n",
    "        for i in range(X.shape[0]):  # Loop over the batch\n",
    "            np.random.shuffle(X_permuted[i, :, feature_idx].numpy())\n",
    "        permuted_score = evaluate_model(model, X_permuted, y)\n",
    "        scores.append(permuted_score)\n",
    "    # return something positive if error has increased and something negative if error has decreased with \n",
    "    # respect to the baseline\n",
    "    return np.mean(scores) - baseline_score\n",
    "\n",
    "test_loader = DataLoader(test_dataset, batch_size=128, shuffle=False)\n",
    "\n",
    "num_features = 4\n",
    "feature_importances = np.zeros(num_features)\n",
    "for batch in test_loader:\n",
    "    X_batch, y_batch = batch\n",
    "    for feature_idx in range(num_features):\n",
    "        importance = permutation_importance(model, X_batch, y_batch, feature_idx)\n",
    "        feature_importances[feature_idx] += importance\n",
    "\n",
    "feature_importances /= len(test_loader)\n",
    "\n",
    "\n",
    "print(\"Heart_Beat, Steps, Intensity_1h_before, hour_of_the_day\")\n",
    "print(feature_importances)"
   ]
  },
  {
   "cell_type": "code",
   "execution_count": null,
   "id": "740e0d9d-391d-4762-a8d7-fd18e7b3da35",
   "metadata": {},
   "outputs": [],
   "source": []
  }
 ],
 "metadata": {
  "kernelspec": {
   "display_name": "Python 3 (ipykernel)",
   "language": "python",
   "name": "python3"
  },
  "language_info": {
   "codemirror_mode": {
    "name": "ipython",
    "version": 3
   },
   "file_extension": ".py",
   "mimetype": "text/x-python",
   "name": "python",
   "nbconvert_exporter": "python",
   "pygments_lexer": "ipython3",
   "version": "3.9.15"
  }
 },
 "nbformat": 4,
 "nbformat_minor": 5
}
